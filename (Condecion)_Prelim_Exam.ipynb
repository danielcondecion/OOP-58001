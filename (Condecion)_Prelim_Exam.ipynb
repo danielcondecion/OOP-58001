{
  "nbformat": 4,
  "nbformat_minor": 0,
  "metadata": {
    "colab": {
      "name": "(Condecion) Prelim Exam.ipynb",
      "provenance": [],
      "collapsed_sections": [],
      "authorship_tag": "ABX9TyM2x7LQpHhkXm3gzXT9xWIa",
      "include_colab_link": true
    },
    "kernelspec": {
      "name": "python3",
      "display_name": "Python 3"
    },
    "language_info": {
      "name": "python"
    }
  },
  "cells": [
    {
      "cell_type": "markdown",
      "metadata": {
        "id": "view-in-github",
        "colab_type": "text"
      },
      "source": [
        "<a href=\"https://colab.research.google.com/github/ddanyul/OOP-58001/blob/main/(Condecion)_Prelim_Exam.ipynb\" target=\"_parent\"><img src=\"https://colab.research.google.com/assets/colab-badge.svg\" alt=\"Open In Colab\"/></a>"
      ]
    },
    {
      "cell_type": "markdown",
      "source": [
        "#Prelim Exam - Condecion\n",
        "1. Write a Python to display your full name, student number, age, and course\n",
        "2. Create a class named Student with attributes: Name, Student_No, Age, School, and Course\n",
        "3. Create an object name Myself and assign an instance for each attribute.\n",
        "4. Create a method Self () using an instantiation of a class.\n",
        "5. Insert your GitHub link \"Prelim Exam\" from your repository named \"OOP 58001\" "
      ],
      "metadata": {
        "id": "qlCKITmhFh3x"
      }
    },
    {
      "cell_type": "code",
      "source": [
        "class Student():\n",
        "  def __init__(self, name, age, school, ID, course):\n",
        "    self.name = name\n",
        "    self.age = age\n",
        "    self.school = school\n",
        "    self.ID = ID\n",
        "    self.course = course\n",
        "\n",
        "  def my_info():\n",
        "    name, age = \"Daniel Condecion,\", 21\n",
        "    ID =202116161\n",
        "    school = \"Adamson University\"\n",
        "    course = \"Bachelor of Science in Computer Engineering\"\n",
        "    print(\"My name is: {} {} years old\".format(name, age))\n",
        "    print(\"My student ID:  {}\".format(ID))\n",
        "    print(\"I am currently studying in: {}\".format(school))\n",
        "    print(\"My course: {}\".format(course))\n",
        "\n",
        "  my_info()"
      ],
      "metadata": {
        "colab": {
          "base_uri": "https://localhost:8080/"
        },
        "id": "ynB7uelRGLAp",
        "outputId": "5f389b74-dc2e-4912-cf48-eaa59a470b60"
      },
      "execution_count": 19,
      "outputs": [
        {
          "output_type": "stream",
          "name": "stdout",
          "text": [
            "My name is: Daniel Condecion, 21 years old\n",
            "My student ID:  202116161\n",
            "I am currently studying in: Adamson University\n",
            "My course: Bachelor of Science in Computer Engineering\n"
          ]
        }
      ]
    }
  ]
}