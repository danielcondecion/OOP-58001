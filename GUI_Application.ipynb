{
  "nbformat": 4,
  "nbformat_minor": 0,
  "metadata": {
    "colab": {
      "name": "GUI Application.ipynb",
      "provenance": [],
      "authorship_tag": "ABX9TyNJrW2Ew2MlnAVA9kWrhyC6",
      "include_colab_link": true
    },
    "kernelspec": {
      "name": "python3",
      "display_name": "Python 3"
    },
    "language_info": {
      "name": "python"
    }
  },
  "cells": [
    {
      "cell_type": "markdown",
      "metadata": {
        "id": "view-in-github",
        "colab_type": "text"
      },
      "source": [
        "<a href=\"https://colab.research.google.com/github/ddanyul/OOP-58001/blob/main/GUI_Application.ipynb\" target=\"_parent\"><img src=\"https://colab.research.google.com/assets/colab-badge.svg\" alt=\"Open In Colab\"/></a>"
      ]
    },
    {
      "cell_type": "markdown",
      "source": [
        "Create a Python Program that displays grades of the students"
      ],
      "metadata": {
        "id": "SjpxAV-7_sDx"
      }
    },
    {
      "cell_type": "code",
      "execution_count": 1,
      "metadata": {
        "colab": {
          "base_uri": "https://localhost:8080/"
        },
        "id": "p-xaAiHS_kVg",
        "outputId": "42af1d09-5653-4c1c-9f65-8c68dec8e435"
      },
      "outputs": [
        {
          "output_type": "stream",
          "name": "stdout",
          "text": [
            "Student_Name\n"
          ]
        }
      ],
      "source": [
        "#@title Students' Grade in Object-oriented Programming\n",
        "\n",
        "Student = \"Enter the student name\" #@param (type: string)\n",
        "prelim = 100 #@param (type: \"number\")\n",
        "midterm = 100 #@param (type: \"number\")\n",
        "final= 100 #@param (type: \"number\")\n",
        "semestral= (prelim*0.30+midterm*0.3+final*0.40)/3\n",
        "\n",
        "print(\"Student_Name\")\n"
      ]
    },
    {
      "cell_type": "code",
      "source": [
        "#@title Gender\n",
        "\n",
        "Male = False #@param(type: \"boolean\")\n",
        "FEmale = False #@param(type: \"boolean\")\n",
        "Birthdate = \n",
        "\n",
        "print(\"My birthdate is\" + Birtdate)\n",
        "print(\"My gender is\" + )\n"
      ],
      "metadata": {
        "id": "HTWSyqqhEdbq"
      },
      "execution_count": null,
      "outputs": []
    }
  ]
}