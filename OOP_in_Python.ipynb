{
  "nbformat": 4,
  "nbformat_minor": 0,
  "metadata": {
    "colab": {
      "name": "OOP in Python.ipynb",
      "provenance": [],
      "authorship_tag": "ABX9TyPh7oHzFlWM1HxQdVb3Rn9E",
      "include_colab_link": true
    },
    "kernelspec": {
      "name": "python3",
      "display_name": "Python 3"
    },
    "language_info": {
      "name": "python"
    }
  },
  "cells": [
    {
      "cell_type": "markdown",
      "metadata": {
        "id": "view-in-github",
        "colab_type": "text"
      },
      "source": [
        "<a href=\"https://colab.research.google.com/github/ddanyul/OOP-58001/blob/main/OOP_in_Python.ipynb\" target=\"_parent\"><img src=\"https://colab.research.google.com/assets/colab-badge.svg\" alt=\"Open In Colab\"/></a>"
      ]
    },
    {
      "cell_type": "markdown",
      "source": [
        "#Creat a Class"
      ],
      "metadata": {
        "id": "g588xFYhrai1"
      }
    },
    {
      "cell_type": "code",
      "source": [
        "class myClass:\n",
        "  pass                          #to creat a class without method"
      ],
      "metadata": {
        "id": "sC3XOyTEreiN"
      },
      "execution_count": null,
      "outputs": []
    },
    {
      "cell_type": "code",
      "source": [
        "class MyClass:    #the name of the class\n",
        "  x = 40          #property of the class named MyClass"
      ],
      "metadata": {
        "id": "kGCZeJ04ro7s"
      },
      "execution_count": null,
      "outputs": []
    },
    {
      "cell_type": "code",
      "source": [
        "class Car():\n",
        "  def __init__(self, name, color):\n",
        "    self.name = name              #represents the instance of class named Car\n",
        "    self.color = color\n",
        "\n",
        "  def description(self):\n",
        "    return self.name, self.color\n",
        "\n",
        "  def display (self):\n",
        "    print(\"The name and color of the car is\",self.description())\n",
        "obj1=Car(\"Toyota\",\"black\")\n",
        "obj1.display()\n"
      ],
      "metadata": {
        "colab": {
          "base_uri": "https://localhost:8080/"
        },
        "id": "Mx1_gR2Iu7FM",
        "outputId": "3c21d8a7-4625-4dea-eaee-aa292b573e16"
      },
      "execution_count": null,
      "outputs": [
        {
          "output_type": "stream",
          "name": "stdout",
          "text": [
            "The name and color of the car is ('Toyota', 'black')\n"
          ]
        }
      ]
    },
    {
      "cell_type": "markdown",
      "source": [
        "Application 2 - Write a Python program to display a class name OOP_58001 with your student no. and fullname (Surname, First name) as attributes\n"
      ],
      "metadata": {
        "id": "CvnwNMp45Q27"
      }
    },
    {
      "cell_type": "code",
      "source": [
        "  class OOP_58001:\n",
        "    pass"
      ],
      "metadata": {
        "id": "sQYM4qSA5htV"
      },
      "execution_count": null,
      "outputs": []
    }
  ]
}