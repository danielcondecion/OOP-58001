{
  "nbformat": 4,
  "nbformat_minor": 0,
  "metadata": {
    "colab": {
      "name": "OOP in Python.ipynb",
      "provenance": [],
      "collapsed_sections": [],
      "authorship_tag": "ABX9TyN7OqgRY9GSgVkaQYBxJzGw",
      "include_colab_link": true
    },
    "kernelspec": {
      "name": "python3",
      "display_name": "Python 3"
    },
    "language_info": {
      "name": "python"
    }
  },
  "cells": [
    {
      "cell_type": "markdown",
      "metadata": {
        "id": "view-in-github",
        "colab_type": "text"
      },
      "source": [
        "<a href=\"https://colab.research.google.com/github/ddanyul/OOP-58001/blob/main/OOP_in_Python.ipynb\" target=\"_parent\"><img src=\"https://colab.research.google.com/assets/colab-badge.svg\" alt=\"Open In Colab\"/></a>"
      ]
    },
    {
      "cell_type": "markdown",
      "source": [
        "#Creat a Class"
      ],
      "metadata": {
        "id": "g588xFYhrai1"
      }
    },
    {
      "cell_type": "code",
      "source": [
        "class Car:\n",
        "  pass                          #to creat a class without method"
      ],
      "metadata": {
        "id": "sC3XOyTEreiN"
      },
      "execution_count": null,
      "outputs": []
    },
    {
      "cell_type": "code",
      "source": [
        "class MyClass:    #the name of the class\n",
        "  x = 40          #property of the class named MyClass"
      ],
      "metadata": {
        "id": "kGCZeJ04ro7s"
      },
      "execution_count": null,
      "outputs": []
    },
    {
      "cell_type": "code",
      "source": [
        "class Car():\n",
        "  def __init__(self, name, color):\n",
        "    self.name = name              #represents the instance of class named Car\n",
        "    self.color = color\n",
        "\n",
        "  def description(self):\n",
        "    return self.name, self.color\n",
        "\n",
        "  def display (self):\n",
        "    print(\"The name and color of the car is\",self.description())\n",
        "obj1=Car(\"Toyota\",\"black\")\n",
        "obj1.display()\n"
      ],
      "metadata": {
        "colab": {
          "base_uri": "https://localhost:8080/"
        },
        "id": "Mx1_gR2Iu7FM",
        "outputId": "3c21d8a7-4625-4dea-eaee-aa292b573e16"
      },
      "execution_count": null,
      "outputs": [
        {
          "output_type": "stream",
          "name": "stdout",
          "text": [
            "The name and color of the car is ('Toyota', 'black')\n"
          ]
        }
      ]
    },
    {
      "cell_type": "markdown",
      "source": [
        "#Object Methods"
      ],
      "metadata": {
        "id": "QDlsNPI8NfCx"
      }
    },
    {
      "cell_type": "code",
      "source": [
        "class Person:\n",
        " def __init__(self,name,age):\n",
        "  self.name = name \n",
        "  self.age = age\n",
        " def myFunction(self):\n",
        "  print(\"Hello! My names is\",self.name)\n",
        "  print(\"I am\",self.age,\"Years old\")\n",
        "\n",
        "p1= Person(\"Daniel\",21)\n",
        "p1.myFunction()"
      ],
      "metadata": {
        "colab": {
          "base_uri": "https://localhost:8080/"
        },
        "id": "j8wSaJDFNkUI",
        "outputId": "529445af-8cfe-464b-88db-41924556f6f7"
      },
      "execution_count": 24,
      "outputs": [
        {
          "output_type": "stream",
          "name": "stdout",
          "text": [
            "Hello! My names is Daniel\n",
            "I am 21 Years old\n"
          ]
        }
      ]
    },
    {
      "cell_type": "code",
      "source": [
        "class Car:\n",
        "  def __init__(self,name,color): #all classess have function called __init__:\n",
        "    self.name = name             #attribute names of class named Card\n",
        "    self.color = color\n",
        "\n",
        "  def description(self):\n",
        "    return \"the\" + self.name + \"has a color\" + self.color \n",
        "\n",
        "  def show (self):\n",
        "    print(\"The\"+\" \"+self.name+\" \"+\"has a color\"+\" \"+self.color)\n",
        "car1 = Car(\"Honda City\", \"White\")\n",
        "car1.show()"
      ],
      "metadata": {
        "colab": {
          "base_uri": "https://localhost:8080/"
        },
        "id": "UBC0MUYzs-Ep",
        "outputId": "581506a9-168c-4d4e-d504-1d0f1ed3e29f"
      },
      "execution_count": 34,
      "outputs": [
        {
          "output_type": "stream",
          "name": "stdout",
          "text": [
            "The Honda City has a color White\n"
          ]
        }
      ]
    },
    {
      "cell_type": "markdown",
      "source": [
        "#Modify and Object Property\n"
      ],
      "metadata": {
        "id": "mTbYn_SX_7_u"
      }
    },
    {
      "cell_type": "code",
      "source": [
        "car1.name = \"Toyota\"\n",
        "print(car1.name)\n",
        "\n",
        "car1.color = \"Silver\"\n",
        "print(car1.color)"
      ],
      "metadata": {
        "colab": {
          "base_uri": "https://localhost:8080/"
        },
        "id": "qbElV1VGxeyW",
        "outputId": "dabb00b8-5c16-4233-9180-67808b28ebb7"
      },
      "execution_count": 61,
      "outputs": [
        {
          "output_type": "stream",
          "name": "stdout",
          "text": [
            "Toyota\n",
            "Silver\n"
          ]
        }
      ]
    },
    {
      "cell_type": "code",
      "source": [
        "car1.show()"
      ],
      "metadata": {
        "colab": {
          "base_uri": "https://localhost:8080/"
        },
        "id": "8ZV2C1FYyRd4",
        "outputId": "9c86f245-fd90-47c8-8dee-cd011c04c7fc"
      },
      "execution_count": 62,
      "outputs": [
        {
          "output_type": "stream",
          "name": "stdout",
          "text": [
            "The Toyota has a color Silver\n"
          ]
        }
      ]
    },
    {
      "cell_type": "markdown",
      "source": [
        "#Delete an Object Property"
      ],
      "metadata": {
        "id": "fXR2bPFpAFON"
      }
    },
    {
      "cell_type": "code",
      "source": [
        "del car1.color\n",
        "print(car1.color)"
      ],
      "metadata": {
        "colab": {
          "base_uri": "https://localhost:8080/",
          "height": 184
        },
        "id": "3xaZd67OA6VF",
        "outputId": "59bdfbcd-5ffa-4aad-b298-8074c9c028d9"
      },
      "execution_count": 64,
      "outputs": [
        {
          "output_type": "error",
          "ename": "AttributeError",
          "evalue": "ignored",
          "traceback": [
            "\u001b[0;31m---------------------------------------------------------------------------\u001b[0m",
            "\u001b[0;31mAttributeError\u001b[0m                            Traceback (most recent call last)",
            "\u001b[0;32m<ipython-input-64-4849355a0500>\u001b[0m in \u001b[0;36m<module>\u001b[0;34m()\u001b[0m\n\u001b[0;32m----> 1\u001b[0;31m \u001b[0;32mdel\u001b[0m \u001b[0mcar1\u001b[0m\u001b[0;34m.\u001b[0m\u001b[0mcolor\u001b[0m\u001b[0;34m\u001b[0m\u001b[0;34m\u001b[0m\u001b[0m\n\u001b[0m\u001b[1;32m      2\u001b[0m \u001b[0mprint\u001b[0m\u001b[0;34m(\u001b[0m\u001b[0mcar1\u001b[0m\u001b[0;34m.\u001b[0m\u001b[0mcolor\u001b[0m\u001b[0;34m)\u001b[0m\u001b[0;34m\u001b[0m\u001b[0;34m\u001b[0m\u001b[0m\n",
            "\u001b[0;31mAttributeError\u001b[0m: color"
          ]
        }
      ]
    },
    {
      "cell_type": "code",
      "source": [
        "print(car1.name)\n",
        "print(car1.color)"
      ],
      "metadata": {
        "colab": {
          "base_uri": "https://localhost:8080/",
          "height": 201
        },
        "id": "FlwuUOhVChRu",
        "outputId": "aab86814-fe06-42b3-a9af-a271dd797aa8"
      },
      "execution_count": 66,
      "outputs": [
        {
          "output_type": "stream",
          "name": "stdout",
          "text": [
            "Toyota\n"
          ]
        },
        {
          "output_type": "error",
          "ename": "AttributeError",
          "evalue": "ignored",
          "traceback": [
            "\u001b[0;31m---------------------------------------------------------------------------\u001b[0m",
            "\u001b[0;31mAttributeError\u001b[0m                            Traceback (most recent call last)",
            "\u001b[0;32m<ipython-input-66-b3300dc57d2d>\u001b[0m in \u001b[0;36m<module>\u001b[0;34m()\u001b[0m\n\u001b[1;32m      1\u001b[0m \u001b[0mprint\u001b[0m\u001b[0;34m(\u001b[0m\u001b[0mcar1\u001b[0m\u001b[0;34m.\u001b[0m\u001b[0mname\u001b[0m\u001b[0;34m)\u001b[0m\u001b[0;34m\u001b[0m\u001b[0;34m\u001b[0m\u001b[0m\n\u001b[0;32m----> 2\u001b[0;31m \u001b[0mprint\u001b[0m\u001b[0;34m(\u001b[0m\u001b[0mcar1\u001b[0m\u001b[0;34m.\u001b[0m\u001b[0mcolor\u001b[0m\u001b[0;34m)\u001b[0m\u001b[0;34m\u001b[0m\u001b[0;34m\u001b[0m\u001b[0m\n\u001b[0m",
            "\u001b[0;31mAttributeError\u001b[0m: 'Car' object has no attribute 'color'"
          ]
        }
      ]
    },
    {
      "cell_type": "markdown",
      "source": [
        "#Application 1 - Write a Python Program for the Area and Perimeter of a Square, and create a class name Square with side as its attribute"
      ],
      "metadata": {
        "id": "TGiQMx92C6Rj"
      }
    },
    {
      "cell_type": "code",
      "source": [
        "#Area of a Square = s*s\n",
        "#Perimeter of a Square = 4*s = s+s+s+s\n",
        "\n",
        "class Square:\n",
        " def __init__(self,side):\n",
        "  self.side = side\n",
        "\n",
        " def Area(self):\n",
        "  return self.side*self.side\n",
        "\n",
        " def Perimeter(self):\n",
        "  return 4*(self.side)\n",
        "\n",
        " def display(self):\n",
        "  print(\"The area of a square is\",self.Area())\n",
        "  print(\"The perimeter of a square is\",self.Perimeter())\n",
        "\n",
        "sq1 = Square(2)\n",
        "sq1.display()"
      ],
      "metadata": {
        "colab": {
          "base_uri": "https://localhost:8080/"
        },
        "id": "g0CWI2t0DDyc",
        "outputId": "5302751b-7393-437f-fac9-510b375869fa"
      },
      "execution_count": 67,
      "outputs": [
        {
          "output_type": "stream",
          "name": "stdout",
          "text": [
            "The area of a square is 4\n",
            "The perimeter of a square is 8\n"
          ]
        }
      ]
    },
    {
      "cell_type": "markdown",
      "source": [
        "Application 2 - Write a Python program to display a class name OOP_58001 with your student no. and fullname (Surname, First name) as attributes\n"
      ],
      "metadata": {
        "id": "CvnwNMp45Q27"
      }
    },
    {
      "cell_type": "code",
      "source": [
        "  class OOP_58001:\n",
        "    pass"
      ],
      "metadata": {
        "id": "sQYM4qSA5htV"
      },
      "execution_count": null,
      "outputs": []
    }
  ]
}