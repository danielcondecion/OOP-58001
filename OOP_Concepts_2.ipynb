{
  "nbformat": 4,
  "nbformat_minor": 0,
  "metadata": {
    "colab": {
      "name": "OOP_Concepts_2.ipynb",
      "provenance": [],
      "authorship_tag": "ABX9TyN4lHDlg9FUvyloCTQQYFh6",
      "include_colab_link": true
    },
    "kernelspec": {
      "name": "python3",
      "display_name": "Python 3"
    },
    "language_info": {
      "name": "python"
    }
  },
  "cells": [
    {
      "cell_type": "markdown",
      "metadata": {
        "id": "view-in-github",
        "colab_type": "text"
      },
      "source": [
        "<a href=\"https://colab.research.google.com/github/ddanyul/OOP-58001/blob/main/OOP_Concepts_2.ipynb\" target=\"_parent\"><img src=\"https://colab.research.google.com/assets/colab-badge.svg\" alt=\"Open In Colab\"/></a>"
      ]
    },
    {
      "cell_type": "markdown",
      "source": [
        "Classes with Multiple Objects"
      ],
      "metadata": {
        "id": "iuB1o37y-iNq"
      }
    },
    {
      "cell_type": "code",
      "execution_count": null,
      "metadata": {
        "colab": {
          "base_uri": "https://localhost:8080/"
        },
        "id": "MSb0IYSNx-8z",
        "outputId": "3e086141-618c-460a-f48a-b77d2370a56b"
      },
      "outputs": [
        {
          "output_type": "stream",
          "name": "stdout",
          "text": [
            "Griffon Vulture flies above clouds\n",
            "Common Crane flies above clouds\n",
            "Philippine Eagle is the national bird of the Philippines\n"
          ]
        }
      ],
      "source": [
        "class Birds:\n",
        "  def __init__(self, bird_name):\n",
        "    self.bird_name = bird_name\n",
        "  def flying_birds(self):\n",
        "    print(f\"{self.bird_name} flies above clouds\")\n",
        "  def non_flying_birds(self):\n",
        "    print(f\"{self.bird_name} is the national bird of the Philippines\")\n",
        "\n",
        "vulture = Birds(\"Griffon Vulture\")\n",
        "crane = Birds(\"Common Crane\")\n",
        "emu = Birds(\"Philippine Eagle\")\n",
        "\n",
        "vulture.flying_birds()\n",
        "crane.flying_birds()\n",
        "emu.non_flying_birds()"
      ]
    },
    {
      "cell_type": "markdown",
      "source": [
        "Encapsulation with Private Attributes"
      ],
      "metadata": {
        "id": "8K85YsthRFRZ"
      }
    },
    {
      "cell_type": "code",
      "source": [
        "  class foo:\n",
        "    def __init__(self,a,b):\n",
        "      self.a = a\n",
        "      self.b = b\n",
        "    def add(self):\n",
        "      return self.a + self.b\n",
        "  foo_object = foo(3,4)\n",
        "  foo_object.add()\n",
        "\n",
        "  foo_object.a = 6\n",
        "  foo_object.add()"
      ],
      "metadata": {
        "id": "kw8PIhmXQxHH",
        "colab": {
          "base_uri": "https://localhost:8080/"
        },
        "outputId": "53b7b99a-dd69-443e-bb6f-9b40f538698d"
      },
      "execution_count": null,
      "outputs": [
        {
          "output_type": "execute_result",
          "data": {
            "text/plain": [
              "10"
            ]
          },
          "metadata": {},
          "execution_count": 2
        }
      ]
    },
    {
      "cell_type": "code",
      "source": [
        "  class foo:\n",
        "    def __init__(self,a,b):\n",
        "      self._a = a\n",
        "      self._b = b\n",
        "    def add(self):\n",
        "      return self._a + self._b\n",
        "  foo_object = foo(3,4)\n",
        "  foo_object.add()\n",
        "\n",
        "  foo_object.a = 6\n",
        "  foo_object.add()"
      ],
      "metadata": {
        "colab": {
          "base_uri": "https://localhost:8080/"
        },
        "id": "dslxGrXxaMwO",
        "outputId": "34ae4b28-ddac-4d2e-e491-26e4f6f36ee4"
      },
      "execution_count": null,
      "outputs": [
        {
          "output_type": "execute_result",
          "data": {
            "text/plain": [
              "7"
            ]
          },
          "metadata": {},
          "execution_count": 10
        }
      ]
    },
    {
      "cell_type": "markdown",
      "source": [
        "Encapsulation by mangling with double underscores"
      ],
      "metadata": {
        "id": "_WhGGQTJcAO9"
      }
    },
    {
      "cell_type": "code",
      "source": [
        "class Counter:\n",
        "  def __init__(self):\n",
        "    self.current = 0\n",
        "  \n",
        "  def increment(self):\n",
        "    self.current += 1 #current = current+1\n",
        "\n",
        "  def value(self):\n",
        "    return self.current\n",
        "\n",
        "  def reset(self):\n",
        "    self.current = 0\n",
        "\n",
        "counter = Counter()\n",
        "\n",
        "counter.increment()\n",
        "counter.increment()\n",
        "counter.increment()\n",
        "\n",
        "print(counter.value())"
      ],
      "metadata": {
        "colab": {
          "base_uri": "https://localhost:8080/"
        },
        "id": "QqxYVSHvatYU",
        "outputId": "2a4aa2b0-eaaa-4686-c9b4-9e4229eaf968"
      },
      "execution_count": null,
      "outputs": [
        {
          "output_type": "stream",
          "name": "stdout",
          "text": [
            "3\n"
          ]
        }
      ]
    },
    {
      "cell_type": "code",
      "source": [
        "class Counter:\n",
        "  def __init__(self):\n",
        "    self.__current = 0\n",
        "  \n",
        "  def increment(self):\n",
        "    self.__current += 1 #current = current+1\n",
        "\n",
        "  def value(self):\n",
        "    return self.__current\n",
        "\n",
        "  def reset(self):\n",
        "    self.current = 0\n",
        "\n",
        "counter = Counter()\n",
        "\n",
        "counter.increment()\n",
        "counter.increment()\n",
        "counter.increment()\n",
        "\n",
        "print(counter.reset())"
      ],
      "metadata": {
        "colab": {
          "base_uri": "https://localhost:8080/"
        },
        "id": "jQEgWxvacHuN",
        "outputId": "45a93566-9a00-4d54-e84b-cbe667c76420"
      },
      "execution_count": null,
      "outputs": [
        {
          "output_type": "stream",
          "name": "stdout",
          "text": [
            "None\n"
          ]
        }
      ]
    },
    {
      "cell_type": "markdown",
      "source": [
        "Inheritance"
      ],
      "metadata": {
        "id": "Z7SnYIUlcJhN"
      }
    },
    {
      "cell_type": "code",
      "source": [
        "class Person:\n",
        "  def __init__(self,fname,sname):\n",
        "    self.fname = fname\n",
        "    self.sname = sname\n",
        "  def printname(self):\n",
        "    print(self.fname,self.sname)\n",
        "\n",
        "x = Person(\"Dan\",\"Condecion\")\n",
        "x.printname()\n",
        "\n",
        "class Teacher(Person):\n",
        " pass\n",
        "\n",
        "x = Teacher(\"Condecion\",\"Daniel\")\n",
        "x.printname()"
      ],
      "metadata": {
        "colab": {
          "base_uri": "https://localhost:8080/"
        },
        "id": "YiwZ0SEQcLWe",
        "outputId": "a8affd4e-ccdd-4c2e-ffb1-971b0a914247"
      },
      "execution_count": null,
      "outputs": [
        {
          "output_type": "stream",
          "name": "stdout",
          "text": [
            "Dan Condecion\n",
            "Condecion Daniel\n"
          ]
        }
      ]
    },
    {
      "cell_type": "markdown",
      "source": [
        "Polymorphism"
      ],
      "metadata": {
        "id": "h6AdvP6tca99"
      }
    },
    {
      "cell_type": "code",
      "source": [
        "class RegularPolygon:\n",
        "  def __init__(self, side=1):\n",
        "    self._side = side\n",
        "class Square(RegularPolygon):\n",
        "  def area(self):\n",
        "    return self._side * self._side\n",
        "class EquilateralTriangle(RegularPolygon):\n",
        "  def area(self):\n",
        "    return self._side * self._side * 0.433\n",
        "\n",
        "obj1 = Square(4)\n",
        "obj2 = EquilateralTriangle(3)\n",
        "\n",
        "print(obj1.area())\n",
        "print(obj2.area())"
      ],
      "metadata": {
        "colab": {
          "base_uri": "https://localhost:8080/"
        },
        "id": "fjySgnOVccwW",
        "outputId": "e3fb74c8-1943-49fb-967b-4381f31a4f45"
      },
      "execution_count": null,
      "outputs": [
        {
          "output_type": "stream",
          "name": "stdout",
          "text": [
            "16\n",
            "3.897\n"
          ]
        }
      ]
    },
    {
      "cell_type": "code",
      "source": [
        "class RegularPolygon:\n",
        "  def __init__(self, side=1):\n",
        "    self._side = side\n",
        "class Square(RegularPolygon):\n",
        "  def area(self):\n",
        "    return self._side * self._side\n",
        "class EquilateralTriangle(RegularPolygon):\n",
        "  def area(self):\n",
        "    return self._side * self._side * 0.433\n",
        "\n",
        "sq = Square(4)\n",
        "et = EquilateralTriangle(3)\n",
        "\n",
        "print(sq.area())\n",
        "print(et.area())\n",
        "\n"
      ],
      "metadata": {
        "colab": {
          "base_uri": "https://localhost:8080/"
        },
        "id": "PpFZ-dvgJYwy",
        "outputId": "a173e01d-70f4-4045-8336-a71a3fe37531"
      },
      "execution_count": null,
      "outputs": [
        {
          "output_type": "stream",
          "name": "stdout",
          "text": [
            "16\n",
            "3.897\n"
          ]
        }
      ]
    },
    {
      "cell_type": "code",
      "source": [
        "class Shape:\n",
        "  def __init__ (self, l, h): \n",
        "    self._length = l \n",
        "    self._height = h\n",
        "class Rectangle(Shape): \n",
        "    def area(self):\n",
        "     return self._length * self._height\n",
        "class Triangle(Shape): \n",
        "    def area(self):\n",
        "      return (self._length * self._height) / 2 \n",
        "    calculateArea = Rectangle(5,10) \n",
        "    print(\"Area of Rectangle is: \" + str(calculateArea.area()))\n",
        "calculateArea = Triangle(5,10)\n",
        "print(\"Area of Triangle is: \" + str(calculateArea.area())) \n",
        "\n"
      ],
      "metadata": {
        "colab": {
          "base_uri": "https://localhost:8080/"
        },
        "id": "kaXoiegIKKDS",
        "outputId": "492e0e4c-d49d-4c42-cc68-25ef17e5434f"
      },
      "execution_count": 3,
      "outputs": [
        {
          "output_type": "stream",
          "name": "stdout",
          "text": [
            "Area of Rectangle is: 50\n",
            "Area of Triangle is: 25.0\n"
          ]
        }
      ]
    },
    {
      "cell_type": "markdown",
      "source": [
        "#Application 1 - 30% prelim, 30% midterm, 40% final = Sem grade\n",
        "\n",
        "1.   Create a Python program that displays the name of three students( Student 1, Student 2, and Student 3) and their term grades\n",
        "2.   Create a class name Person and attributes - std1, std2, std3, pre, mid , fin\n",
        "3.  Compute the average pf each term grade using Grade() method\n",
        "4. Information about student's grades must be hidden from others\n",
        "\n",
        "\n",
        "\n",
        "\n",
        "\n",
        "\n",
        "\n",
        "\n",
        "\n",
        "\n",
        "\n",
        "\n",
        "\n",
        "\n"
      ],
      "metadata": {
        "id": "gcmf3hoDcfev"
      }
    },
    {
      "cell_type": "code",
      "source": [
        "class Person:\n",
        "  def __init__(self,student1, student2, student3, pre, mid, fin ):\n",
        "    self.std1 = student1\n",
        "    self.std2 = student2\n",
        "    self.std3 = student3\n",
        "    self.pre = pre\n",
        "    self.mid = mid\n",
        "    self.fin = fin\n",
        "\n",
        "  def Grade(self):\n",
        "    print(\"Student Name= \", self.std1, self.std2, self.std3)\n",
        "    print(\"Prelim Grade= \", int(self.pre))\n",
        "    print(\"Midterm Grade= \", int(self.mid))\n",
        "    print(\"Final Grade= \", int(self.fin))\n",
        "    print(\"Semestral Grade= \", int(self.pre*.30) + int(self.mid*.30) + int(self.fin*.40))\n",
        "\n",
        "student1 = Person(\"Elizabeth DeWitt\",\"\",\"\", 100, 97, 99)\n",
        "student2 = Person(\"\",\"Kazuha Kaedehara\",\"\", 92, 95, 94)\n",
        "student3 = Person(\"\",\"\",\"Bing Qilin\", 94, 95, 95)\n",
        "\n",
        "\n",
        "Name= input(str(\"Enter your last name: \")) \n",
        "\n",
        "if Name == \"DeWitt\" or Name == \"dewitt\":\n",
        "  student1.Grade()\n",
        "elif name == \"Kaedehara\" or Name == \"kaedehara\":\n",
        "  student2.Grade()\n",
        "elif Name == \"Qilin\" or Name == \"qilin\":\n",
        "  student3.Grade()\n",
        "else:\n",
        "  print(\"Student not found\")\n"
      ],
      "metadata": {
        "id": "U-HTqTtAdckl",
        "colab": {
          "base_uri": "https://localhost:8080/"
        },
        "outputId": "495f3821-8eea-4899-ff32-1114c523723f"
      },
      "execution_count": 38,
      "outputs": [
        {
          "output_type": "stream",
          "name": "stdout",
          "text": [
            "Enter your last name: DeWitt\n",
            "Student Name=  Elizabeth DeWitt  \n",
            "Prelim Grade=  100\n",
            "Midterm Grade=  97\n",
            "Final Grade=  99\n",
            "Semestral Grade=  98\n"
          ]
        }
      ]
    }
  ]
}