{
  "nbformat": 4,
  "nbformat_minor": 0,
  "metadata": {
    "colab": {
      "name": "(Condecion)Long Quiz 1 .ipynb",
      "provenance": [],
      "collapsed_sections": [],
      "authorship_tag": "ABX9TyPraxjgCN+XWM/FEzuVHUrV",
      "include_colab_link": true
    },
    "kernelspec": {
      "name": "python3",
      "display_name": "Python 3"
    },
    "language_info": {
      "name": "python"
    }
  },
  "cells": [
    {
      "cell_type": "markdown",
      "metadata": {
        "id": "view-in-github",
        "colab_type": "text"
      },
      "source": [
        "<a href=\"https://colab.research.google.com/github/ddanyul/OOP-58001/blob/main/(Condecion)Long_Quiz_1_.ipynb\" target=\"_parent\"><img src=\"https://colab.research.google.com/assets/colab-badge.svg\" alt=\"Open In Colab\"/></a>"
      ]
    },
    {
      "cell_type": "markdown",
      "source": [
        "#Long Quiz 1 - Condecion\n",
        "\n",
        "1.Write a Python program that asks the user to enter the radius of a circle and solve its area and perimeter.\n",
        "\n",
        "2.Create a class name Circle allowing you to build a circle with radius and pi attributes.\n",
        "\n",
        "3.Create a method Display() the perimeter and area using an instantiation of a class.\n",
        "\n",
        "4.Create a Perimeter() method to calculate the perimeter of the circle and an Area() method to calculate the area of ​​the circle."
      ],
      "metadata": {
        "id": "N5XuVXYSBP4v"
      }
    },
    {
      "cell_type": "code",
      "execution_count": 10,
      "metadata": {
        "colab": {
          "base_uri": "https://localhost:8080/"
        },
        "id": "X4u4KO9uO6lN",
        "outputId": "924fc548-0b50-4718-e05d-f7e7bc8ee0fa"
      },
      "outputs": [
        {
          "output_type": "stream",
          "name": "stdout",
          "text": [
            "20\n",
            "The perimeter of the circle is 125.66370614359172\n",
            "The area of the circle is 1256.6370614359173\n"
          ]
        }
      ],
      "source": [
        "import math\n",
        "\n",
        "class Circle():\n",
        "  def __init__(self, rad):\n",
        "    self.rad = int (rad)\n",
        "\n",
        "  def Perimeter (self):\n",
        "    return 2 * pi * self.rad\n",
        "  \n",
        "  def Area (self):\n",
        "    return pi * (self.rad ** 2)\n",
        "\n",
        "  def display (self):\n",
        "    print (\"The perimeter of the circle is\", self.Perimeter())\n",
        "    print (\"The area of the circle is\", self.Area())\n",
        "\n",
        "pi = math.pi\n",
        "chapati=Circle(input())\n",
        "chapati.display()"
      ]
    }
  ]
}